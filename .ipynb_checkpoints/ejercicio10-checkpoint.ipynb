{
 "cells": [
  {
   "cell_type": "code",
   "execution_count": 63,
   "id": "dab535c5-acb4-4029-a717-b4481f3998b9",
   "metadata": {},
   "outputs": [
    {
     "name": "stdout",
     "output_type": "stream",
     "text": [
      "{'Shadow': {'kills': 6, 'assists': 6, 'deaths': 2, 'mvp': 2, 'Puntos': 22}, 'Blaze': {'kills': 6, 'assists': 3, 'deaths': 2, 'mvp': 1, 'Puntos': 18}, 'Viper': {'kills': 5, 'assists': 6, 'deaths': 3, 'mvp': 1, 'Puntos': 18}, 'Frost': {'kills': 4, 'assists': 5, 'deaths': 2, 'mvp': 1, 'Puntos': 15}, 'Reaper': {'kills': 4, 'assists': 5, 'deaths': 4, 'mvp': 0, 'Puntos': 16}}\n"
     ]
    }
   ],
   "source": [
    "rounds = [\n",
    "    {\n",
    "        'Shadow': {'kills': 2, 'assists': 1, 'deaths': True},\n",
    "        'Blaze': {'kills': 1, 'assists': 0, 'deaths': False},\n",
    "        'Viper': {'kills': 1, 'assists': 2, 'deaths': True},\n",
    "        'Frost': {'kills': 0, 'assists': 1, 'deaths': False},\n",
    "        'Reaper': {'kills': 1, 'assists': 1, 'deaths': False}\n",
    "    },\n",
    "    {\n",
    "        'Shadow': {'kills': 0, 'assists': 2, 'deaths': False},\n",
    "        'Blaze': {'kills': 2, 'assists': 0, 'deaths': True},\n",
    "        'Viper': {'kills': 1, 'assists': 1, 'deaths': False},\n",
    "        'Frost': {'kills': 2, 'assists': 1, 'deaths': True},\n",
    "        'Reaper': {'kills': 0, 'assists': 1, 'deaths': False}\n",
    "    },\n",
    "    {\n",
    "        'Shadow': {'kills': 1, 'assists': 0, 'deaths': False},\n",
    "        'Blaze': {'kills': 2, 'assists': 2, 'deaths': True},\n",
    "        'Viper': {'kills': 1, 'assists': 1, 'deaths': True},\n",
    "        'Frost': {'kills': 0, 'assists': 1, 'deaths': False},\n",
    "        'Reaper': {'kills': 1, 'assists': 1, 'deaths': False}\n",
    "    },\n",
    "    {\n",
    "        'Shadow': {'kills': 2, 'assists': 1, 'deaths': False},\n",
    "        'Blaze': {'kills': 1, 'assists': 0, 'deaths': True},\n",
    "        'Viper': {'kills': 0, 'assists': 2, 'deaths': False},\n",
    "        'Frost': {'kills': 1, 'assists': 1, 'deaths': True},\n",
    "        'Reaper': {'kills': 1, 'assists': 1, 'deaths': False}\n",
    "    },\n",
    "    {\n",
    "        'Shadow': {'kills': 1, 'assists': 2, 'deaths': True},\n",
    "        'Blaze': {'kills': 0, 'assists': 1, 'deaths': False},\n",
    "        'Viper': {'kills': 2, 'assists': 0, 'deaths': True},\n",
    "        'Frost': {'kills': 1, 'assists': 1, 'deaths': False},\n",
    "        'Reaper': {'kills': 1, 'assists': 1, 'deaths': True}\n",
    "    }\n",
    "]\n",
    "\n",
    "# Crear diccionario contador \n",
    "\n",
    "contador = {}\n",
    "for i in rounds[0]: #i es el jugador\n",
    "    contador[i] = {'kills': 0, 'assists': 0, 'deaths': 0, 'mvp': 0, 'Puntos': 0}\n",
    "\n",
    "for n_round in range(len(rounds)):\n",
    "\n",
    "    # inicializamos los puntos y el mvp de cada ronda\n",
    "    max_p = 0\n",
    "    j_mvp = ''\n",
    "    \n",
    "    for jugador in rounds[n_round]:\n",
    "        \n",
    "        # variable jug es para ahorrar caracteres\n",
    "        jug = rounds[n_round][jugador]\n",
    "        \n",
    "        # linea que suma los puntos de cada jugador por ronda \n",
    "        puntos = jug['kills'] * 3 + jug['assists'] - jug['deaths'] \n",
    "        contador[jugador]['Puntos'] = contador[jugador]['Puntos'] + puntos\n",
    "        \n",
    "        # sumanos kills, assists y deaths\n",
    "        contador[jugador]['kills'] = contador[jugador]['kills'] + jug['kills']\n",
    "        contador[jugador]['assists'] = contador[jugador]['assists'] + jug['assists']\n",
    "        if jug['kills'] == True:\n",
    "            contador[jugador]['deaths'] += 1\n",
    "            \n",
    "        # obtenemos el MVP\n",
    "        if puntos > max_p:\n",
    "            j_mvp = jugador\n",
    "            max_p = puntos\n",
    "    \n",
    "    # sumamos el MVP\n",
    "    contador[j_mvp]['mvp'] += 1\n",
    "        \n",
    "print(contador)\n"
   ]
  },
  {
   "cell_type": "code",
   "execution_count": null,
   "id": "0d699769-6e27-483d-a61e-ce246561e905",
   "metadata": {},
   "outputs": [],
   "source": []
  }
 ],
 "metadata": {
  "kernelspec": {
   "display_name": "Python [conda env:base] *",
   "language": "python",
   "name": "conda-base-py"
  },
  "language_info": {
   "codemirror_mode": {
    "name": "ipython",
    "version": 3
   },
   "file_extension": ".py",
   "mimetype": "text/x-python",
   "name": "python",
   "nbconvert_exporter": "python",
   "pygments_lexer": "ipython3",
   "version": "3.12.7"
  }
 },
 "nbformat": 4,
 "nbformat_minor": 5
}
